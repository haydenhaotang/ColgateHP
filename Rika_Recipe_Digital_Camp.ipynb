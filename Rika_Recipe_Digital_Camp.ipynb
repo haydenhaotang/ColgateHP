{
  "cells": [
    {
      "cell_type": "markdown",
      "metadata": {
        "id": "view-in-github",
        "colab_type": "text"
      },
      "source": [
        "<a href=\"https://colab.research.google.com/github/haydenhaotang/ColgateHP/blob/main/Rika_Recipe_Digital_Camp.ipynb\" target=\"_parent\"><img src=\"https://colab.research.google.com/assets/colab-badge.svg\" alt=\"Open In Colab\"/></a>"
      ]
    },
    {
      "cell_type": "code",
      "execution_count": 2,
      "metadata": {
        "colab": {
          "base_uri": "https://localhost:8080/"
        },
        "id": "tcG9avbyw1j7",
        "outputId": "e466fdc0-fb5c-40c8-9213-4e461bca7de2"
      },
      "outputs": [
        {
          "name": "stdout",
          "output_type": "stream",
          "text": [
            "Initiating login request with your identity provider. A browser window should have opened for you to complete the login. If you can't see it, check existing browser windows, or your OS settings. Press CTRL+C to abort and try again...\n",
            "Going to open: https://sso.colpal.com/app/snowflake/exk5d2wdao1LeZ8Vr357/sso/saml?SAMLRequest=pZPNctowFIVfxaOubckG8qMBMg6QxlMnuOAwnexUWxAVWXJ1ZUzevrIJnXSRbLrTSOfofvceaXxzrKR34AaEVhMUBgR5XBW6FGo3QU%2F5nX%2BFPLBMlUxqxSfolQO6mY6BVbKmcWNf1Ir%2FbjhYz12kgPYHE9QYRTUDAVSxigO1BV3HDymNAkJro60utETvLJ87GAA31hGeLSUIh%2FdibU0xbts2aAeBNjscEUIwucZO1Um%2BnPVH19MH%2BhCTYad3CifP3thuhTqN4DOsnycR0Ps8z%2Fxsuc6RF59RZ1pBU3Gz5uYgCv60Sk8A4Ahmy%2FRrnC%2ByOH1YpslmMV9sggb8gitrmAyDXVEHoHS7lWzPC13VjXV1ArfCW15iqXfCjSKZT1C9F2WWpgs%2BvBjKOSySoS0Gj%2Blqzb7Buvp%2Bfxtnxx96I6PZr8vRYV8gb3POOuqyTgAanqguYeu2SDTww9CPrnJC6GhIRyS4IOEz8uYuYaGY7Z3nNgC0Y5I1kz0aq2v8lxrz435URm3JdJjy56uNGYwuOwfu4kanF0T78mb6%2F3MZ4%2Ff3vT3PR5dYMs%2B0FMWrd6dNxezHgYZB2O%2BI0t%2F2UsorJmRcloYDuGCl1O3McGbdL7Cm4QhPT1X%2F%2FQfTPw%3D%3D&RelayState=37815 to authenticate...\n",
            "We were unable to open a browser window for you, please open the url above manually then paste the URL you are redirected to into the terminal.\n",
            "Enter the URL the SSO URL redirected you to: http://localhost:37815/?token=7VnJduJKEt37K3yoJcfWDIhT9mtNSAIk0IikTR8NqQE0oQEBX98CFy7bVa9evaF707WyMzIjdPNGKLgBn387Zun9AVR1UuRPA-QRHtyD3C-CJI-eBoY-e5gMfnv-XLtZipZTFdRlkdfgngV1k-Ruc3WKm6aspxDkF2nkNqB006xIkwMIwOGxrR98kDeVmyKPkV8-1nnRham7A36RlW0fI3rs_4NCEEBpESX54F5knwZJMEIwGMPxyQRDJpMJgo3REU6g2ATrD-Q3GHrxNCh3SbBeLjmAj_CUrTkRb3xMXqqau6i1TBFoan20CjNFme2YOOz83r-uWyDmdePmzdMAhVHsAUEe0IkOw1MCnxKTxxFJOIN780YKeiGlpymvpy88PA3aKp8Wbp3U09zNQD1t_KlGSctpf3RaVkVT9FzcfI71C0U9Q13XPXbYY1FFEArDCGRJS82PQeYOvlA8vYKr7mdFlbnNj59zsSTBQ3g9Ou1JTprTO5w_dnfrGlSXBA6e36Ardo17zQg47ogA7QK3QJbAmZgVRow_Q29BPn8O6qmWRH0ZtBX48uDg9y4LQzAJ9WeCOok-DV59QSDmYXFdMm5e5Invpsn5WlgSaOIiuKfSqKiSJs5-l0UEvgR-AEf_wUfw_NMAeg_tpwPB-A3hQ1ZU4FNVuw917KLE6EtIFYSg6l8PcG-o4tPg04_q9OqgV25eXzJUv1_-IZh3dIH8ANKiBMFDfbvTF0A_H_A7ND1_Bv5UzP20rfu3Vb5USOn6oL5fVyBMjsuk7ivwWN9qCvh_KgPQW3gfli9ssEnUt5E_mZ2e_U_vcvISxXTTFjw7m0B1lNleTDFEMeGGqeP5WU0mThFgTuVnDnTOrDG_5xzq6YrorfPV8Jrhl-WHEn0tqRePRFkaB-5MFu3MH3m77cRs902kAXnYLYwZbRXD4LAGwwDmzzvWGTv5AkxWM5CQed7Ry25h80NjiIvzyQHiNcxzQRsejSwb7z2_dBdJ3qjnI4rP83Hcji2t8_Zn6bQlO2vvW0MeTufzUSkBxkYSh0FO-2WeCQSxgEaj5iCbcCiv8BlTZuqptgSaO49GSBeqS77cn8SFDgMM3jMABLJml5vRVjarUiuYVo208XZ82urB2o0QI6fmEgKdJvEMCsZKKhgi0mqn0PS6oYAvR_O5245tBaWEQ7vRadLz6jW3IQh2K4b-VtiFp1ZMqIg9FISRHpsqnSv7zNZC6DiiO1oW0gZCRXvh7kauN5ywR2Dv2ujp6ZX6N1xf6F-A02sqLAImWbdxXxfMpZuFff9owLMkimzKMgyVnyKqE2kqEnlqY8ek0C4lCuYZbc9rooexCkcznUFJIr-QlLpjFJs1FYXnurlpnDldojn-jkIMjqG6hYLOanfjHPyMKG2d20i0wl_26K6TDXTWipxzsjfE1rXkrXfmZImqr_tM1HE62sC9j3En0eKLseuWBiKvDWF-CLJ051jikTlTczqSTZqSJCqTO0ntOj6y54vCEeODL1PKjp5FSOllzkHhyeou4LnWRslGonGL1TlcYnenFSt2ss7BUlr0NvGNTbzYusgu3jzI1qnU1CVV6u64l7uLLFWy9uZYOhl58rI0llS7m1HXPYGlEN3e4JGaz2Mvk0sflQ-SAndMd91fsJS6djE1vpNUpeOiq3HJUo1uwKTiZyTqbtTU33J9EnZXGqiuY2yMOvaRXTra7eNdwpMdTDMKt2E3aduDoO68C3kasfVQuIsiLvmYQUoxKAoXabajLvsLqugzrjDrzdow16Uby23LerAVaqJv380IvzwR_iaGuvFo6RA6PzsXMb1YsYcQHicmRNLMEVNFaJKbsbY7rMJDXRhcvYv7pKtgzGv6NttCyvm8N-5Mr2iMhPEVMxCgbEf5OSRbHhS3_HAZEah85FlW2O3s_WLY389hyxlpxRR2MjVt4TcIFNVOZxOKl2-p2V2BRjMdb3WGJEh7b3pZDpQDtiDhs0vCKdyVEMZaY63GWB1By05Otox6wlB35Ec6u1JJP0Q7uLRK0RCTO95r6hiDh5yRkXNfgtI0TcqTusvcNjmHM-0ADvlyO5E9-cglQzhb7HC9V3EHnUSd2DC8SJsJJ8pq8Zls3UWa7JAkGnICJUBmU1KRRFMU17HK2-LklrRCsX0CaIotHWYMu7uVjStpvUcMX1X2EEH6AnmnpcMTX2GNxFL6ZuRu2syw1RW_WOcjqx0zrEFGvAuf1ztjDRMyKU_6lorEGyfETyEgHHYcWGtle8ROYru927RBfMS9autG3VzBc1tDN4VQ1UJ9tPbL4WQTEk3dEQXVRFVgaWeAWoxSouJOHHILK1YIap6agW3gJLq7C_dHDCErs9-eQV00cslWWc7R4dluI2W1RIwi3VR7K-24cOks8szyj3WX5mjDroITWVmjJiJ1eT9Lj_j6TknniRK6rrlnMqNcxeYkbeYKQ639oZH77SQUjmdqoe-9IEcDedEy4UyGKYZFZvMTAtu87c1Vb6vBTdXld8q8kfbGsaBp5aU5fmx4r8aXlgi9bZbvmumrlNeafl3_FVn7IQRTBOD-2qN_7F9fT0-11u8lRn1VCO_i3BQwddOl30wC2JgkYWIEo2OYgDHyH1DyP6uQfyn5_ycl_7HOfin5_72Sj7ewOk-EOojWmtjq2yIcrsk1DE98L1IEB8QFrVdm5mWo8o8o-aW4jurFEtbCTGZavHG2e9aB4xClcEWApECwNzxd0KVzHjdQpHJmEtFOMBFncSOkxGQrB_AE5vKYo_nOayF4SeXqWMi0EjSCxg4nAX4ui2Am7oQ0Xtk8votPB73_bOsiosyMtIKdlTAXgqAgjVFtiRLETo6hhi8XejvaS_tZm_Cmz4esKZljmWGWMbmcOUrAdQt5fnbC3XHetvh8S-LuHsHmUo5U5IlwoP3OdHUL6Ft_Jo4zylgJ0DHBqkW-sxf4xt-ezmfBCJMmXKY8sEXSpqH96Dzx1LM7tiirTGr-tLBt0VVNK8iHXhAtZAMKgbZ1QH4kIU4MKLgZhdTB7cIgNi1bqxdYQDpjedvPWL-U_C8l_0vJ_1Lyv5T8f03J94La2wK_-Uty8UuIi2AQ2T-Uqsgj8lGqZm6SUkFQXRT9c-yeApD_u1fj0b_6QaF004v-vEnNl4d8QM0UeZhcQl30_ot--DF4P5t6wK1ANfhBpAt1f_tnArloVvmqosIGVN8MF-TX4UIFflIm4DKB_KM_hLwOSN-74ce9Gxn9mSC5HKgv-GnQ5wl8BI-_Af-zl_wbxUW1QXKRYX02mirxX9C_33r-J4m7MfMa_KPhHRDoI29fsTVxfplMQdY__f66_J1REyan-PgRh0c9UVr_JvRhxDwAx79SdX-L6B5if5EGHJvv2Zi09-lV8fMPw_pT_3KuN6_7P11RBet-8O9LDARX0V8WVfOV0e9E_97me-Mrq68omz4hXtuAr3z_HR5u0e4vLedpQPl-0ebN4Lr8mXHc7QNcrLcu1_a37l_yMAHBtw-5ato_8_3A69nkjw8_JNeK80HvVSfT5lSCyxw3vRRwHg2ef-J9eWX-HeDnb8zfWt6k6bZ14_rrdze3Hvv8Hw==\n",
            "Collecting pygsheets\n",
            "  Downloading pygsheets-2.0.6-py3-none-any.whl (158 kB)\n",
            "     ━━━━━━━━━━━━━━━━━━━━━━━━━━━━━━━━━━━━━━━━ 158.2/158.2 kB 3.9 MB/s eta 0:00:00\n",
            "Installing collected packages: pygsheets\n",
            "Successfully installed pygsheets-2.0.6\n",
            "输入Googlesheets 的url:https://docs.google.com/spreadsheets/d/1_gR2Bcbr52nuYvDx58_SraaETlHdmXeqsAL0p_mUsHg/edit#gid=83244764\n"
          ]
        }
      ],
      "source": [
        "#@title\n",
        "!pip install snowflake | grep -v 'already satisfied'\n",
        "import snowflake.connector\n",
        "import sys\n",
        "import re\n",
        "con = snowflake.connector.connect(\n",
        "    user=\"HAYDEN_TANG@COLPAL.COM\", #You can get it by executing in UI: desc user <username>;\n",
        "    account=\"colgatepalmolivedev.us-central1.gcp\", #Add all of the account-name between https:// and snowflakecomputing.com\n",
        "    authenticator=\"externalbrowser\",#https://colgatepalmolivedev.us-central1.gcp.snowflakecomputing.com\n",
        ")\n",
        "!pip install pygsheets | grep -v 'already satisfied'\n",
        "import scipy.stats as st\n",
        "import google.auth\n",
        "import pandas as pd\n",
        "import numpy as np\n",
        "from google.colab import auth\n",
        "import warnings\n",
        "warnings.filterwarnings(\"ignore\")\n",
        "auth.authenticate_user()\n",
        "import pygsheets\n",
        "credentials, _ = google.auth.default()\n",
        "gc = pygsheets.client.Client(credentials)\n",
        "googlesheetid= input(\"输入Googlesheets 的url:\")"
      ]
    },
    {
      "cell_type": "markdown",
      "source": [
        "\n",
        "\n",
        "1.   二层bom如何拆是否需要拆，拆的话逻辑会复杂化，具体逻辑？配方卡Google sheets的 tab名能否固定？\n",
        "2.   现有的形式是否可以满足需求，如果不能满足，希望从何处\n",
        "进行优化。\n",
        "3.   如可以接受该形式需要做的事：谁会使用该工具？将需要为使用该工具的同事申请snowflake\n",
        "4.   如果不可接受该种形式，探索其他的解决方案。\n",
        "\n",
        "\n",
        "\n"
      ],
      "metadata": {
        "id": "vxjBznbOfyXq"
      }
    },
    {
      "cell_type": "markdown",
      "source": [
        "`形式：如果有不一样的可以进行highlight，如果物料号不一致，则highlight物料号，如果数量不一致，则highlight 数量\n",
        "关于二层bom：二层bom的位置都处于第一列，需要进行查询，\n",
        "最后，能否把源代码去掉，只给一些输入权限。"
      ],
      "metadata": {
        "id": "JEgGxJgssxzg"
      }
    },
    {
      "cell_type": "code",
      "source": [
        "# @title\n",
        "def checkfloat(i):\n",
        "  if type(i)==float:\n",
        "    return True\n",
        "  else:\n",
        "    return False\n",
        "def check_bom_correctness(w_id):\n",
        "  original_table = gc.open_by_url(w_id)\n",
        "  receipe_card=original_table.worksheet_by_title('CSS-FH LiYuan')\n",
        "  raw_recipe=receipe_card.get_as_df(start='B10',include_tailing_empty=False)\n",
        "  filter_receipe=raw_recipe[raw_recipe.iloc[:,1].apply(checkfloat)==True]\n",
        "  filter_columns=['目标加入量 ', '最少加入量',  '最大加入量', '实际加入量']\n",
        "  new_columns=['materialNo','target','Min',' Max','Actual']\n",
        "  new_filter_columns=pd.concat([filter_receipe.iloc[:,0],filter_receipe[filter_columns]],axis=1)\n",
        "  new_filter_columns.columns=new_columns\n",
        "  receipe_total=pd.DataFrame(new_filter_columns.groupby('materialNo')['target'].sum().reset_index())\n",
        "  batch_size=float(receipe_card.get_value('B8'))\n",
        "  receipe_total['target']=receipe_total['target']*1000/batch_size\n",
        "  receipe_num=receipe_card.get_value('B6').replace(' ','')\n",
        "  cur = con.cursor()\n",
        "  try:\n",
        "    cur.execute('''USE WAREHOUSE HAYDEN_TANG''')\n",
        "    cur.execute('''select BOM_COMPONENT,PLANT,BOM_USAGE,ALT_BOM_TEXT, QUANTITY from DEV_GTED_HUB.BOM.BOM__AS\n",
        "WHERE Material='{}' and ALT_BOM_TEXT='200000070597/001/001'\n",
        "LIMIT 1000\n",
        "'''.format(receipe_num))\n",
        "    bomdata=pd.DataFrame(cur.fetchall())\n",
        "  finally:\n",
        "    cur.close()\n",
        "  cur.close()\n",
        "  bomdata.columns=['BOM_COMPONENT','PLANT','BOM_USAGE','ALT_BOM_TEXT', 'QUANTITY']\n",
        "  bom_total=pd.DataFrame(bomdata.groupby('BOM_COMPONENT')['QUANTITY'].sum().reset_index())\n",
        "  bom_total.columns=['materialNo','target']\n",
        "  print('Bom中有但是配方表中没有的货号如下：\\n',set(bom_total['materialNo'])-set(receipe_total['materialNo']))\n",
        "  print('Bom中没有但是配方表中有的货号如下：\\n',set(receipe_total['materialNo'])-set(bom_total['materialNo']))\n",
        "  common_list=set(receipe_total['materialNo'])&set(bom_total['materialNo'])\n",
        "  t1=bom_total[bom_total['materialNo'].isin(common_list)]\n",
        "  t2=receipe_total[receipe_total['materialNo'].isin(common_list)]\n",
        "  t1=t1.round(3).set_index('materialNo')\n",
        "  t2=t2.round(3).set_index('materialNo')\n",
        "  print('BOM和配方卡中有差异的物料如下：')\n",
        "  print(t1.compare(t2,result_names=(\"bom\", \"receipe\")))"
      ],
      "metadata": {
        "id": "0CDCV_vfhD21"
      },
      "execution_count": 4,
      "outputs": []
    },
    {
      "cell_type": "code",
      "source": [
        " original_table = gc.open_by_url(googlesheetid)"
      ],
      "metadata": {
        "id": "kiDHidtNbucu"
      },
      "execution_count": 6,
      "outputs": []
    },
    {
      "cell_type": "code",
      "source": [
        "def find_second_layer():\n",
        "  test_pattern=re.compile(r'.*[)]')\n",
        "  if re.findall(re.compile(r'B[0-9]+',re.I),re.sub(test_pattern,'','预混罐开批时间：1)B05313950000',0).replace(' ',''))==[]:\n",
        "    return False\n",
        "  else:\n",
        "    return True"
      ],
      "metadata": {
        "colab": {
          "base_uri": "https://localhost:8080/"
        },
        "id": "qUM85ppmosL_",
        "outputId": "66ac694f-74fe-495b-f84e-5c30787c678f"
      },
      "execution_count": 66,
      "outputs": [
        {
          "output_type": "execute_result",
          "data": {
            "text/plain": [
              "['B05313950000']"
            ]
          },
          "metadata": {},
          "execution_count": 66
        }
      ]
    },
    {
      "cell_type": "code",
      "source": [
        "cur = con.cursor()\n",
        "for t_list in raw_recipe.iloc[:,0].apply(lambda x: re.findall(re.compile(r'B[0-9]+',re.I),re.sub(test_pattern,'',x,0).replace(' ',''))):\n",
        "  if t_list==[]:\n",
        "    pass\n",
        "  else:\n",
        "    new_code=t_list[0]\n",
        "    print(new_code)\n",
        "    cur.execute('''USE WAREHOUSE HAYDEN_TANG''')\n",
        "    cur.execute('''select ALT_BOM_TEXT from DEV_GTED_HUB.BOM.BOM__AS\n",
        "WHERE Material='{}' order by ALT_BOM_TEXT desc\n",
        "LIMIT 1\n",
        "'''.format(new_code))\n",
        "    print(pd.DataFrame(cur.fetchall()))\n",
        "    seconddata=pd.DataFrame(cur.fetchall())\n",
        "    try:\n",
        "      secondversion=seconddata.iloc[0,0]\n",
        "    except:\n",
        "      secondversion=False\n",
        "    if secondversion:\n",
        "      cur.execute('''USE WAREHOUSE HAYDEN_TANG''')\n",
        "      cur.execute('''select BOM_COMPONENT,PLANT,BOM_USAGE,ALT_BOM_TEXT, QUANTITY from DEV_GTED_HUB.BOM.BOM__AS\n",
        "WHERE Material='{}' and ALT_BOM_TEXT='{}'\n",
        "LIMIT 1000\n",
        "'''.format(new_code,secondversion))\n",
        "      print(pd.DataFrame(cur.fetchall()))\n",
        "\n",
        "\n"
      ],
      "metadata": {
        "colab": {
          "base_uri": "https://localhost:8080/"
        },
        "id": "LVMdMrSzriC5",
        "outputId": "434de9ef-2401-45e5-b9aa-133acae36ad3"
      },
      "execution_count": 80,
      "outputs": [
        {
          "output_type": "stream",
          "name": "stdout",
          "text": [
            "B05313950000\n",
            "                      0\n",
            "0  200000068512/001/000\n"
          ]
        }
      ]
    },
    {
      "cell_type": "code",
      "source": [],
      "metadata": {
        "id": "3WRaoClsriII"
      },
      "execution_count": null,
      "outputs": []
    },
    {
      "cell_type": "code",
      "source": [
        "pattern=re.compile('LEE|liyuan|best',re.I)\n",
        "print(re.findall(pattern,\"this is test L\"))\n",
        "for sheet in original_table._sheet_list:\n",
        "  sheet_title=sheet.title\n",
        "  if len(re.findall(pattern,sheet_title))>0:\n",
        "    receipe_card=original_table.worksheet_by_title(sheet_title)\n",
        "    raw_recipe=receipe_card.get_as_df(start='A10',include_tailing_empty=False)\n",
        "    # print(raw_recipe)\n",
        "    filter_receipe=raw_recipe[raw_recipe.iloc[:,2].apply(checkfloat)==True]\n",
        "    filter_columns=['目标加入量 ', '最少加入量',  '最大加入量', '实际加入量']\n",
        "    new_columns=['materialNo','target','Min',' Max','Actual']\n",
        "    new_filter_columns=pd.concat([filter_receipe.iloc[:,1],filter_receipe[filter_columns]],axis=1)\n",
        "    new_filter_columns.columns=new_columns\n",
        "    receipe_total=pd.DataFrame(new_filter_columns.groupby('materialNo')['target'].sum().reset_index())\n",
        "    batch_size=float(receipe_card.get_value('B8'))\n",
        "    receipe_total['target']=receipe_total['target']*1000/batch_size\n",
        "    receipe_num=receipe_card.get_value('B6').replace(' ','')\n",
        "    test_pattern=re.compile(r'.*[)]')\n",
        "    re.findall(re.compile(r'B[0-9]+',re.I),re.sub(test_pattern,'','1=3)B05313950000',0).replace(' ',''))\n",
        "    for t_list in raw_recipe.iloc[:,0].apply(lambda x: re.findall(re.compile(r'B[0-9]+',re.I),re.sub(test_pattern,'',x,0).replace(' ',''))):\n",
        "\n",
        "    # second_layer=r\n",
        "#     cur = con.cursor()\n",
        "#     try:\n",
        "#       cur.execute('''USE WAREHOUSE HAYDEN_TANG''')\n",
        "#       cur.execute('''select BOM_COMPONENT,PLANT,BOM_USAGE,ALT_BOM_TEXT, QUANTITY from DEV_GTED_HUB.BOM.BOM__AS\n",
        "# WHERE Material='{}' and ALT_BOM_TEXT='200000070597/001/001'\n",
        "# LIMIT 1000\n",
        "# '''.format(receipe_num))\n",
        "#       bomdata=pd.DataFrame(cur.fetchall())\n",
        "#     finally:\n",
        "#       cur.close()\n",
        "#     cur.close()\n",
        "#     bomdata.columns=['BOM_COMPONENT','PLANT','BOM_USAGE','ALT_BOM_TEXT', 'QUANTITY']\n",
        "#     bom_total=pd.DataFrame(bomdata.groupby('BOM_COMPONENT')['QUANTITY'].sum().reset_index())\n",
        "#     bom_total.columns=['materialNo','target']\n",
        "      # bom_total['target']=bom_total['target']/1000*batch_size\n",
        "#     print('Bom中有但是配方表中没有的货号如下：\\n',set(bom_total['materialNo'])-set(receipe_total['materialNo']))\n",
        "#     print('Bom中没有但是配方表中有的货号如下：\\n',set(receipe_total['materialNo'])-set(bom_total['materialNo']))\n",
        "#     common_list=set(receipe_total['materialNo'])&set(bom_total['materialNo'])\n",
        "#     t1=bom_total[bom_total['materialNo'].isin(common_list)]\n",
        "#     t2=receipe_total[receipe_total['materialNo'].isin(common_list)]\n",
        "#     t1=t1.round(3).set_index('materialNo')\n",
        "#     t2=t2.round(3).set_index('materialNo')\n",
        "#     print('BOM和配方卡中有差异的物料如下：')\n",
        "#     print(t1.compare(t2,result_names=(\"bom\", \"receipe\")))"
      ],
      "metadata": {
        "colab": {
          "base_uri": "https://localhost:8080/"
        },
        "id": "LCX1-CllcgvU",
        "outputId": "a046c0f1-f235-4114-8b17-2cfdd517243a"
      },
      "execution_count": 46,
      "outputs": [
        {
          "output_type": "stream",
          "name": "stdout",
          "text": [
            "[]\n",
            "0           预混罐开批时间：\n",
            "1     1)B05313950000\n",
            "2           山梨醇-酶混合物\n",
            "3                   \n",
            "4          2-1) 山梨醇桶\n",
            "           ...      \n",
            "65              检测人：\n",
            "66              编写者：\n",
            "67                  \n",
            "68                  \n",
            "69                  \n",
            "Name: , Length: 70, dtype: object\n"
          ]
        }
      ]
    },
    {
      "cell_type": "code",
      "source": [
        "original_table.worksheets"
      ],
      "metadata": {
        "colab": {
          "base_uri": "https://localhost:8080/"
        },
        "id": "fnHcjMC7c-0y",
        "outputId": "6f564555-d696-4342-f4f6-a2dd2dbf4540"
      },
      "execution_count": 16,
      "outputs": [
        {
          "output_type": "execute_result",
          "data": {
            "text/plain": [
              "<bound method Spreadsheet.worksheets of <Spreadsheet 'Copy of Formula-Colgate KCSS Enzyme Forest Herb Toothpaste（200L)' Sheets:2>>"
            ]
          },
          "metadata": {},
          "execution_count": 16
        }
      ]
    },
    {
      "cell_type": "code",
      "source": [
        "dir(original_table)"
      ],
      "metadata": {
        "colab": {
          "base_uri": "https://localhost:8080/"
        },
        "id": "KyHwOQbHbya_",
        "outputId": "b6c9c2d3-80b6-46f3-d664-456329ad8baa"
      },
      "execution_count": 10,
      "outputs": [
        {
          "output_type": "execute_result",
          "data": {
            "text/plain": [
              "['__class__',\n",
              " '__delattr__',\n",
              " '__dict__',\n",
              " '__dir__',\n",
              " '__doc__',\n",
              " '__eq__',\n",
              " '__format__',\n",
              " '__ge__',\n",
              " '__getattribute__',\n",
              " '__getitem__',\n",
              " '__gt__',\n",
              " '__hash__',\n",
              " '__init__',\n",
              " '__init_subclass__',\n",
              " '__iter__',\n",
              " '__le__',\n",
              " '__lt__',\n",
              " '__module__',\n",
              " '__ne__',\n",
              " '__new__',\n",
              " '__reduce__',\n",
              " '__reduce_ex__',\n",
              " '__repr__',\n",
              " '__setattr__',\n",
              " '__sizeof__',\n",
              " '__str__',\n",
              " '__subclasshook__',\n",
              " '__weakref__',\n",
              " '_defaultFormat',\n",
              " '_fetch_sheets',\n",
              " '_id',\n",
              " '_jsonsheet',\n",
              " '_named_ranges',\n",
              " '_sheet_list',\n",
              " '_title',\n",
              " 'add_worksheet',\n",
              " 'client',\n",
              " 'create_developer_metadata',\n",
              " 'custom_request',\n",
              " 'default_parse',\n",
              " 'defaultformat',\n",
              " 'del_worksheet',\n",
              " 'delete',\n",
              " 'export',\n",
              " 'fetch_properties',\n",
              " 'find',\n",
              " 'get_developer_metadata',\n",
              " 'id',\n",
              " 'locale',\n",
              " 'logger',\n",
              " 'named_ranges',\n",
              " 'permissions',\n",
              " 'protected_ranges',\n",
              " 'remove_permission',\n",
              " 'replace',\n",
              " 'share',\n",
              " 'sheet1',\n",
              " 'title',\n",
              " 'to_json',\n",
              " 'update_properties',\n",
              " 'updated',\n",
              " 'url',\n",
              " 'worksheet',\n",
              " 'worksheet_by_title',\n",
              " 'worksheet_cls',\n",
              " 'worksheets']"
            ]
          },
          "metadata": {},
          "execution_count": 10
        }
      ]
    },
    {
      "cell_type": "code",
      "source": [
        "check_bom_correctness(googlesheetid)"
      ],
      "metadata": {
        "colab": {
          "base_uri": "https://localhost:8080/"
        },
        "id": "pfNoGXr7bZ75",
        "outputId": "b3826888-cfd3-41d7-e55b-8710c0e06002"
      },
      "execution_count": 5,
      "outputs": [
        {
          "output_type": "stream",
          "name": "stdout",
          "text": [
            "Bom中有但是配方表中没有的货号如下：\n",
            " {'M24572A'}\n",
            "Bom中没有但是配方表中有的货号如下：\n",
            " {'M24572', 'M42458', 'M42459'}\n",
            "BOM和配方卡中有差异的物料如下：\n",
            "               target            \n",
            "                  bom     receipe\n",
            "materialNo                       \n",
            "B05313950000    3.750    3.733333\n",
            "B0660318MCN   149.543  157.533333\n",
            "B08915380000   13.500   13.533333\n",
            "M03043         12.500   12.533333\n",
            "M06448          2.200         2.2\n",
            "M06526        407.150       409.8\n",
            "M14264         48.857   48.866667\n",
            "M21094          0.500    0.533333\n"
          ]
        }
      ]
    }
  ],
  "metadata": {
    "colab": {
      "provenance": [],
      "authorship_tag": "ABX9TyNKCr6SY/7Q84SZMmfIjFPC",
      "include_colab_link": true
    },
    "kernelspec": {
      "display_name": "Python 3",
      "name": "python3"
    },
    "language_info": {
      "name": "python"
    }
  },
  "nbformat": 4,
  "nbformat_minor": 0
}